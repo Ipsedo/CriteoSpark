{
 "cells": [
  {
   "cell_type": "markdown",
   "metadata": {},
   "source": [
    "## Mise en place du context"
   ]
  },
  {
   "cell_type": "code",
   "execution_count": 2,
   "metadata": {},
   "outputs": [],
   "source": [
    "from findspark import init\n",
    "init()\n",
    "import pyspark\n",
    "from pyspark.sql import SparkSession\n",
    "from pyspark.sql.functions import col"
   ]
  },
  {
   "cell_type": "markdown",
   "metadata": {},
   "source": [
    "Le contexte est récupéré si existant et dans l'autre cas il sera créé."
   ]
  },
  {
   "cell_type": "code",
   "execution_count": 3,
   "metadata": {},
   "outputs": [],
   "source": [
    "sc = pyspark.SparkContext.getOrCreate() # ça marche pas pour moi avec sparkContext\n",
    "spark = SparkSession.builder.getOrCreate() # Du coup je fais une sparkSession (ça doit revenir presque au même je pense)"
   ]
  },
  {
   "cell_type": "markdown",
   "metadata": {},
   "source": [
    "## Chargement des données"
   ]
  },
  {
   "cell_type": "code",
   "execution_count": 4,
   "metadata": {},
   "outputs": [],
   "source": [
    "import os.path as path\n",
    "from os import makedirs"
   ]
  },
  {
   "cell_type": "code",
   "execution_count": 5,
   "metadata": {},
   "outputs": [],
   "source": [
    "data_dir = \"res\""
   ]
  },
  {
   "cell_type": "code",
   "execution_count": 5,
   "metadata": {},
   "outputs": [
    {
     "name": "stdout",
     "output_type": "stream",
     "text": [
      "--2018-11-29 21:50:03--  https://s3-eu-west-1.amazonaws.com/kaggle-display-advertising-challenge-dataset/dac.tar.gz\n",
      "Résolution de s3-eu-west-1.amazonaws.com (s3-eu-west-1.amazonaws.com)… 52.218.36.34\n",
      "Connexion à s3-eu-west-1.amazonaws.com (s3-eu-west-1.amazonaws.com)|52.218.36.34|:443… connecté.\n",
      "requête HTTP transmise, en attente de la réponse… 200 OK\n",
      "Taille : 4576820670 (4,3G) [application/x-gzip]\n",
      "Enregistre : «dac.tar.gz»\n",
      "\n",
      "dac.tar.gz            0%[                    ]   7,66M   929KB/s    tps 81m 14s^C\n"
     ]
    }
   ],
   "source": [
    "if not path.isfile(\"dac.tar.gz\"):\n",
    "    !wget https://s3-eu-west-1.amazonaws.com/kaggle-display-advertising-challenge-dataset/dac.tar.gz"
   ]
  },
  {
   "cell_type": "code",
   "execution_count": 6,
   "metadata": {},
   "outputs": [],
   "source": [
    "if not path.isdir(data_dir):\n",
    "    makedirs(data_dir)"
   ]
  },
  {
   "cell_type": "markdown",
   "metadata": {},
   "source": [
    "Le fichier [`dac.tar.gz`](https://s3-eu-west-1.amazonaws.com/kaggle-display-advertising-challenge-dataset/dac.tar.gz) doit se situer dans le même répertoire."
   ]
  },
  {
   "cell_type": "code",
   "execution_count": 7,
   "metadata": {},
   "outputs": [],
   "source": [
    "if not path.isfile(data_dir + \"/train.txt\") or not path.isfile(data_dir + \"/test.txt\"):\n",
    "    !tar -xvzf dac.tar.gz -C $data_dir"
   ]
  },
  {
   "cell_type": "code",
   "execution_count": 6,
   "metadata": {},
   "outputs": [],
   "source": [
    "df = spark.read.csv(data_dir + \"/train.txt\", header=False, sep=\"\\t\")"
   ]
  },
  {
   "cell_type": "markdown",
   "metadata": {},
   "source": [
    "## Preparation des données"
   ]
  },
  {
   "cell_type": "code",
   "execution_count": 7,
   "metadata": {},
   "outputs": [],
   "source": [
    "df2 = df.dropna()"
   ]
  },
  {
   "cell_type": "code",
   "execution_count": 18,
   "metadata": {},
   "outputs": [
    {
     "name": "stdout",
     "output_type": "stream",
     "text": [
      "45840617\n",
      "756554\n"
     ]
    }
   ],
   "source": [
    "print(df.count())\n",
    "print(df2.count())"
   ]
  },
  {
   "cell_type": "code",
   "execution_count": 8,
   "metadata": {},
   "outputs": [
    {
     "data": {
      "text/plain": [
       "StructType(List(StructField(_c0,StringType,true),StructField(_c1,StringType,true),StructField(_c2,StringType,true),StructField(_c3,StringType,true),StructField(_c4,StringType,true),StructField(_c5,StringType,true),StructField(_c6,StringType,true),StructField(_c7,StringType,true),StructField(_c8,StringType,true),StructField(_c9,StringType,true),StructField(_c10,StringType,true),StructField(_c11,StringType,true),StructField(_c12,StringType,true),StructField(_c13,StringType,true),StructField(_c14,StringType,true),StructField(_c15,StringType,true),StructField(_c16,StringType,true),StructField(_c17,StringType,true),StructField(_c18,StringType,true),StructField(_c19,StringType,true),StructField(_c20,StringType,true),StructField(_c21,StringType,true),StructField(_c22,StringType,true),StructField(_c23,StringType,true),StructField(_c24,StringType,true),StructField(_c25,StringType,true),StructField(_c26,StringType,true),StructField(_c27,StringType,true),StructField(_c28,StringType,true),StructField(_c29,StringType,true),StructField(_c30,StringType,true),StructField(_c31,StringType,true),StructField(_c32,StringType,true),StructField(_c33,StringType,true),StructField(_c34,StringType,true),StructField(_c35,StringType,true),StructField(_c36,StringType,true),StructField(_c37,StringType,true),StructField(_c38,StringType,true),StructField(_c39,StringType,true)))"
      ]
     },
     "execution_count": 8,
     "metadata": {},
     "output_type": "execute_result"
    }
   ],
   "source": [
    "df2.schema"
   ]
  },
  {
   "cell_type": "markdown",
   "metadata": {},
   "source": [
    "Renommage des colonnes par : label, f1, f2, f3,..., f39 + Conversion des colonnes 0 à 13 inclu en float"
   ]
  },
  {
   "cell_type": "code",
   "execution_count": 16,
   "metadata": {},
   "outputs": [
    {
     "name": "stdout",
     "output_type": "stream",
     "text": [
      "['label', 'f1', 'f2', 'f3', 'f4', 'f5', 'f6', 'f7', 'f8', 'f9', 'f10', 'f11', 'f12', 'f13', 'f14', 'f15', 'f16', 'f17', 'f18', 'f19', 'f20', 'f21', 'f22', 'f23', 'f24', 'f25', 'f26', 'f27', 'f28', 'f29', 'f30', 'f31', 'f32', 'f33', 'f34', 'f35', 'f36', 'f37', 'f38', 'f39']\n"
     ]
    },
    {
     "data": {
      "text/plain": [
       "[Row(label=1.0, f1=0.0, f2=127.0, f3=1.0, f4=3.0, f5=1683.0, f6=19.0, f7=26.0, f8=17.0, f9=475.0, f10=0.0, f11=9.0, f12=0.0, f13=3.0, f14='05db9164', f15='8947f767', f16='11c9d79e', f17='52a787c8', f18='4cf72387', f19='fbad5c96', f20='18671b18', f21='0b153874', f22='a73ee510', f23='ceb10289', f24='77212bd7', f25='79507c6b', f26='7203f04e', f27='07d13a8f', f28='2c14c412', f29='49013ffe', f30='8efede7f', f31='bd17c3da', f32='f6a3e43b', f33='a458ea53', f34='35cd95c9', f35='ad3062eb', f36='c7dc6720', f37='3fdb382b', f38='010f6491', f39='49d68486')]"
      ]
     },
     "execution_count": 16,
     "metadata": {},
     "output_type": "execute_result"
    }
   ],
   "source": [
    "def mk_newNameCol():\n",
    "    res = ['label']\n",
    "    for i in range(1, 40):\n",
    "        res.append('f' + str(i))\n",
    "    return res\n",
    "\n",
    "new_name = mk_newNameCol()\n",
    "print(new_name)\n",
    "\n",
    "df3 = df2.select(*[col(c).alias(new_c) for c, new_c in zip(df2.columns, new_name)])\n",
    "df3 = df3.select(*(col(c).cast(\"float\") if i < 14 else col(c) for i, c in enumerate(df3.columns)))\n",
    "df3.head(1) # Ca bug à ce moment là je sais pas pourquoi"
   ]
  },
  {
   "cell_type": "markdown",
   "metadata": {},
   "source": [
    "Afficher les valeurs uniques pour les attributs 14 à 39 inclu"
   ]
  },
  {
   "cell_type": "code",
   "execution_count": 18,
   "metadata": {},
   "outputs": [
    {
     "name": "stdout",
     "output_type": "stream",
     "text": [
      "+--------+--------+--------+--------+--------+--------+--------+--------+--------+--------+--------+--------+--------+--------+--------+--------+--------+--------+--------+--------+--------+--------+--------+--------+--------+--------+\n",
      "|     f14|     f15|     f16|     f17|     f18|     f19|     f20|     f21|     f22|     f23|     f24|     f25|     f26|     f27|     f28|     f29|     f30|     f31|     f32|     f33|     f34|     f35|     f36|     f37|     f38|     f39|\n",
      "+--------+--------+--------+--------+--------+--------+--------+--------+--------+--------+--------+--------+--------+--------+--------+--------+--------+--------+--------+--------+--------+--------+--------+--------+--------+--------+\n",
      "|8cf07265|38d50e09|0e3e14a7|19fca40f|25c83c98|7e0ccccf|cb35bf0a|0b153874|a73ee510|df2138cf|1b723d3c|5c28d6c6|2e072c0d|1adce6ef|e2c18d5a|fd81fbb4|e5ba7672|582152eb|21ddcdc9|5840adea|2d4c8386|c9d4222a|3a171ecb|eda696dc|001f3601|984e0db0|\n",
      "|05db9164|1cfdf714|20eac82e|06b65969|43b19349|7e0ccccf|90a2c015|37e4aa92|a73ee510|edd13d14|0f736a0c|26db5bd8|3af886ff|051219e6|af56328b|cb614e32|e5ba7672|e88ffc9d|21ddcdc9|a458ea53|62419b7b|ad3062eb|423fab69|a5a7cc68|cb079c2d|115a51cb|\n",
      "|05db9164|097e9399|915bbd8f|26ac5cc6|25c83c98|fbad5c96|ac2d4799|0b153874|a73ee510|84462a5b|434d6c13|87408e45|7301027a|1adce6ef|5c3dbd29|8759a2d9|e5ba7672|97029569|21ddcdc9|b1252a9d|6ec2bcf7|ad3062eb|55dd3565|7f686ab3|2bf691b1|bebc2875|\n",
      "|05db9164|287130e0|21f419e0|a5cb672d|25c83c98|fbad5c96|ab34a858|0b153874|a73ee510|63f14ce6|364e8b48|07fb1809|34cbb1bc|07d13a8f|10040656|f0625534|e5ba7672|891589e7|55dd3565|b1252a9d|a3a39f9f|c9d4222a|c7dc6720|d4c175bf|fd2fe0bd|2db4ff35|\n",
      "|f473b8dc|8947f767|5eb47070|0c171e57|25c83c98|7e0ccccf|74f473d3|0b153874|a73ee510|d7cb1343|2872a4bd|557a44d8|f8320f48|b28479f6|a473257f|a81c6f1e|1e88c74f|bd17c3da|650dc442|a458ea53|460d3386|c9d4222a|32c7478e|0a9d189e|010f6491|7fd6516e|\n",
      "|05db9164|942f9a8d|261ae264|90922246|4cf72387|fbad5c96|49b74ebc|5b392875|a73ee510|7f79890b|c4adf918|6093b175|85dbe138|1adce6ef|ae97ecc3|b7e6b976|1e88c74f|1f868fdd|f44bef3c|a458ea53|e39b7f3b|c0061c6d|bcdee96c|63494212|9d93af03|65ff1143|\n",
      "|9a89b36c|80e26c9b|fb39a977|85dd697c|25c83c98|fbad5c96|646b4bca|0b153874|a73ee510|3b08e48b|c9c964c1|8518139a|df941d33|07d13a8f|e8f4b767|2d0bbe92|27c07bd6|005c6740|21ddcdc9|5840adea|5a5ea513|ad3062eb|32c7478e|1793a828|e8b83407|b9809574|\n",
      "|68fd1e64|1cfdf714|5ff6f3fd|f412e4b3|25c83c98|fbad5c96|a2bea6d8|0b153874|a73ee510|a30a7b4a|72a65bcc|3016f551|b8fee572|b28479f6|d355626a|aa453f0d|e5ba7672|6a74e011|4764bf77|a458ea53|8c316295|ad3062eb|bcdee96c|7939255b|cb079c2d|bc33111f|\n",
      "|05db9164|4e8d18ed|48c2f346|44f4b089|25c83c98|fe6b92e5|5df71803|0b153874|a73ee510|8e97febe|a9b84bd5|c8dac621|cdc2ccda|07d13a8f|8d016df5|2218e38b|3486227d|47e4d79e|712d530c|a458ea53|1902a208|ad3062eb|c7dc6720|c640e7a4|c9f3bea7|a1004638|\n",
      "|8cf07265|1cfdf714|cf6e068e|aa76e087|25c83c98|3bf701e7|1cebe213|0b153874|a73ee510|28daff0d|1054ae5c|93c5771e|d7ce3abd|b28479f6|d345b1a0|c9cea2f5|e5ba7672|e88ffc9d|aecf55cd|a458ea53|a1cc3401|ad3062eb|bcdee96c|3fdb382b|cb079c2d|49d68486|\n",
      "|05db9164|4f25e98b|627d6426|97dc84f4|4cf72387|7e0ccccf|4b0cab49|5b392875|a73ee510|d35e1d60|6685ea28|27fad695|7edc047a|07d13a8f|dfab705f|0f148e96|e5ba7672|7ef5affa|21ddcdc9|b1252a9d|7bd8fe08|c9d4222a|c7dc6720|3fdb382b|e8b83407|2e5068eb|\n",
      "|5a9ed9b0|4f25e98b|3dd0c426|ab52da0f|25c83c98|fbad5c96|82f666b6|1f89b562|a73ee510|299aecf1|e51ddf94|ace843df|3516f6e6|07d13a8f|dfab705f|823a0874|8efede7f|7ef5affa|21ddcdc9|b1252a9d|558cc24f|c9d4222a|3a171ecb|3fdb382b|001f3601|a39e1586|\n",
      "|5a9ed9b0|1329e144|db25312b|66f3ddab|4cf72387|3bf701e7|423ac2e7|0b153874|a73ee510|31990058|52497132|1fe55d5f|1c717231|b28479f6|fc9ac63e|80599eeb|e5ba7672|98bf96cf|c9b4dc46|a458ea53|ffe44a7f|78e2e389|bcdee96c|0a577596|cb079c2d|d46889fc|\n",
      "|05db9164|8947f767|8fd14ddd|7ee22537|25c83c98|7e0ccccf|9e8dab66|a61cc0ef|a73ee510|fa7d0797|2d9eed4d|51e273c5|949ea585|07d13a8f|2c14c412|4f809eb9|e5ba7672|bd17c3da|21ddcdc9|a458ea53|9c2f97bf|ad3062eb|32c7478e|3fdb382b|b9266ff0|49d68486|\n",
      "|05db9164|89ddfee8|41b14641|68578873|25c83c98|fe6b92e5|407438c8|6c41e35e|a73ee510|935a36f0|755e4a50|d1fe7ba8|5978055e|b28479f6|25753fb1|359cf9f1|27c07bd6|5bb2ec8e|d7a14759|b1252a9d|f198c75f|c9d4222a|32c7478e|960c66f9|f0f449dd|ffc32385|\n",
      "|05db9164|207b2d81|2b280564|ad5ffc6b|25c83c98|7e0ccccf|7f9907fe|6c41e35e|a73ee510|084bb20d|a7b606c4|2a064dba|eae197fd|64c94865|11b2ae92|7d9b60c8|27c07bd6|395856b0|21ddcdc9|a458ea53|9c3eb598|ad3062eb|3a171ecb|c0b8dfd6|001f3601|81be451e|\n",
      "|05db9164|6e638bbc|cfd489aa|e1266f05|4cf72387|fe6b92e5|60d4eb86|0b153874|a73ee510|716e68e2|0ad37b4b|13ccdde3|f9d99d81|b28479f6|e63b30de|23609cf2|e5ba7672|3cb7e3f0|21ddcdc9|b1252a9d|9835edb1|c9d4222a|85d5a995|81bae67c|445bbe3b|d5b499e6|\n",
      "|5939346e|287130e0|f67486d2|a6b086ea|43b19349|fe6b92e5|0f011b03|0b153874|a73ee510|ac82a793|56cb5b8a|ad0a56a0|c95e66fd|f862f261|ab3069a3|5e1c1c28|e5ba7672|891589e7|9437f62f|b1252a9d|240a16e2|ad3062eb|55dd3565|ba0bdf1d|ea9a246c|6581e0d0|\n",
      "|68fd1e64|287130e0|dbf8d845|666aef97|25c83c98|fe6b92e5|1f70796e|0b153874|a73ee510|ecf2a440|cebf7e5e|48f165b8|d3b3cfc1|b28479f6|9efd8b77|3e54f2de|8efede7f|891589e7|a153cea2|b1252a9d|eab99233|78e2e389|bcdee96c|69e4f188|e8b83407|e001324a|\n",
      "|05db9164|097e9399|915bbd8f|26ac5cc6|25c83c98|fbad5c96|aba8db04|0b153874|a73ee510|3b08e48b|30d2a079|87408e45|d2bd7bb7|1adce6ef|5c3dbd29|8759a2d9|e5ba7672|97029569|21ddcdc9|b1252a9d|6ec2bcf7|ad3062eb|32c7478e|7f686ab3|2bf691b1|bebc2875|\n",
      "+--------+--------+--------+--------+--------+--------+--------+--------+--------+--------+--------+--------+--------+--------+--------+--------+--------+--------+--------+--------+--------+--------+--------+--------+--------+--------+\n",
      "only showing top 20 rows\n",
      "\n"
     ]
    }
   ],
   "source": [
    "df3.select(*(col(c) for c in df3.columns[14:])).distinct().show() # marche pas"
   ]
  },
  {
   "cell_type": "code",
   "execution_count": 19,
   "metadata": {},
   "outputs": [
    {
     "data": {
      "text/plain": [
       "StructType(List(StructField(label,FloatType,true),StructField(f1,FloatType,true),StructField(f2,FloatType,true),StructField(f3,FloatType,true),StructField(f4,FloatType,true),StructField(f5,FloatType,true),StructField(f6,FloatType,true),StructField(f7,FloatType,true),StructField(f8,FloatType,true),StructField(f9,FloatType,true),StructField(f10,FloatType,true),StructField(f11,FloatType,true),StructField(f12,FloatType,true),StructField(f13,FloatType,true),StructField(f14,StringType,true),StructField(f15,StringType,true),StructField(f16,StringType,true),StructField(f17,StringType,true),StructField(f18,StringType,true),StructField(f19,StringType,true),StructField(f20,StringType,true),StructField(f21,StringType,true),StructField(f22,StringType,true),StructField(f23,StringType,true),StructField(f24,StringType,true),StructField(f25,StringType,true),StructField(f26,StringType,true),StructField(f27,StringType,true),StructField(f28,StringType,true),StructField(f29,StringType,true),StructField(f30,StringType,true),StructField(f31,StringType,true),StructField(f32,StringType,true),StructField(f33,StringType,true),StructField(f34,StringType,true),StructField(f35,StringType,true),StructField(f36,StringType,true),StructField(f37,StringType,true),StructField(f38,StringType,true),StructField(f39,StringType,true)))"
      ]
     },
     "execution_count": 19,
     "metadata": {},
     "output_type": "execute_result"
    }
   ],
   "source": [
    "df3.schema"
   ]
  },
  {
   "cell_type": "markdown",
   "metadata": {},
   "source": [
    "## Arrêt du context"
   ]
  },
  {
   "cell_type": "code",
   "execution_count": 28,
   "metadata": {},
   "outputs": [],
   "source": [
    "sc.stop()"
   ]
  },
  {
   "cell_type": "code",
   "execution_count": null,
   "metadata": {},
   "outputs": [],
   "source": []
  }
 ],
 "metadata": {
  "kernelspec": {
   "display_name": "Python 3",
   "language": "python",
   "name": "python3"
  },
  "language_info": {
   "codemirror_mode": {
    "name": "ipython",
    "version": 3
   },
   "file_extension": ".py",
   "mimetype": "text/x-python",
   "name": "python",
   "nbconvert_exporter": "python",
   "pygments_lexer": "ipython3",
   "version": "3.6.6"
  }
 },
 "nbformat": 4,
 "nbformat_minor": 2
}
