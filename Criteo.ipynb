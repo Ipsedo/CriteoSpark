{
 "cells": [
  {
   "cell_type": "markdown",
   "metadata": {},
   "source": [
    "## Mise en place du context"
   ]
  },
  {
   "cell_type": "code",
   "execution_count": 18,
   "metadata": {},
   "outputs": [],
   "source": [
    "from findspark import init\n",
    "init()\n",
    "import pyspark\n",
    "from pyspark.sql.functions import col"
   ]
  },
  {
   "cell_type": "markdown",
   "metadata": {},
   "source": [
    "Le contexte est récupéré si existant et dans l'autre cas il sera créé."
   ]
  },
  {
   "cell_type": "code",
   "execution_count": 2,
   "metadata": {},
   "outputs": [],
   "source": [
    "sc = pyspark.SparkContext.getOrCreate()"
   ]
  },
  {
   "cell_type": "markdown",
   "metadata": {},
   "source": [
    "## Chargement des données"
   ]
  },
  {
   "cell_type": "code",
   "execution_count": 3,
   "metadata": {},
   "outputs": [],
   "source": [
    "import os.path as path\n",
    "from os import makedirs"
   ]
  },
  {
   "cell_type": "code",
   "execution_count": 4,
   "metadata": {},
   "outputs": [],
   "source": [
    "data_dir = \"res\""
   ]
  },
  {
   "cell_type": "code",
   "execution_count": 5,
   "metadata": {},
   "outputs": [],
   "source": [
    "if not path.isfile(\"dac.tar.gz\"):\n",
    "    !wget https://s3-eu-west-1.amazonaws.com/kaggle-display-advertising-challenge-dataset/dac.tar.gz"
   ]
  },
  {
   "cell_type": "code",
   "execution_count": 6,
   "metadata": {},
   "outputs": [],
   "source": [
    "if not path.isdir(data_dir):\n",
    "    makedirs(data_dir)"
   ]
  },
  {
   "cell_type": "markdown",
   "metadata": {},
   "source": [
    "Le fichier [`dac.tar.gz`](https://s3-eu-west-1.amazonaws.com/kaggle-display-advertising-challenge-dataset/dac.tar.gz) doit se situer dans le même répertoire."
   ]
  },
  {
   "cell_type": "code",
   "execution_count": 7,
   "metadata": {},
   "outputs": [],
   "source": [
    "if not path.isfile(data_dir + \"/train.txt\") or not path.isfile(data_dir + \"/test.txt\"):\n",
    "    !tar -xvzf dac.tar.gz -C $data_dir"
   ]
  },
  {
   "cell_type": "code",
   "execution_count": 8,
   "metadata": {},
   "outputs": [],
   "source": [
    "df = spark.read.csv(data_dir + \"/train.txt\", header=False, sep=\"\\t\")"
   ]
  },
  {
   "cell_type": "markdown",
   "metadata": {},
   "source": [
    "## Preparation des données"
   ]
  },
  {
   "cell_type": "code",
   "execution_count": 10,
   "metadata": {},
   "outputs": [],
   "source": [
    "df2 = df.dropna()"
   ]
  },
  {
   "cell_type": "code",
   "execution_count": 11,
   "metadata": {},
   "outputs": [
    {
     "name": "stdout",
     "output_type": "stream",
     "text": [
      "45840617\n",
      "756554\n"
     ]
    }
   ],
   "source": [
    "print(df.count())\n",
    "print(df2.count())"
   ]
  },
  {
   "cell_type": "code",
   "execution_count": 14,
   "metadata": {},
   "outputs": [
    {
     "data": {
      "text/plain": [
       "StructType(List(StructField(_c0,StringType,true),StructField(_c1,StringType,true),StructField(_c2,StringType,true),StructField(_c3,StringType,true),StructField(_c4,StringType,true),StructField(_c5,StringType,true),StructField(_c6,StringType,true),StructField(_c7,StringType,true),StructField(_c8,StringType,true),StructField(_c9,StringType,true),StructField(_c10,StringType,true),StructField(_c11,StringType,true),StructField(_c12,StringType,true),StructField(_c13,StringType,true),StructField(_c14,StringType,true),StructField(_c15,StringType,true),StructField(_c16,StringType,true),StructField(_c17,StringType,true),StructField(_c18,StringType,true),StructField(_c19,StringType,true),StructField(_c20,StringType,true),StructField(_c21,StringType,true),StructField(_c22,StringType,true),StructField(_c23,StringType,true),StructField(_c24,StringType,true),StructField(_c25,StringType,true),StructField(_c26,StringType,true),StructField(_c27,StringType,true),StructField(_c28,StringType,true),StructField(_c29,StringType,true),StructField(_c30,StringType,true),StructField(_c31,StringType,true),StructField(_c32,StringType,true),StructField(_c33,StringType,true),StructField(_c34,StringType,true),StructField(_c35,StringType,true),StructField(_c36,StringType,true),StructField(_c37,StringType,true),StructField(_c38,StringType,true),StructField(_c39,StringType,true)))"
      ]
     },
     "execution_count": 14,
     "metadata": {},
     "output_type": "execute_result"
    }
   ],
   "source": [
    "df2.schema"
   ]
  },
  {
   "cell_type": "markdown",
   "metadata": {},
   "source": [
    "Convertir les colonne 0 à 13 inclu en float"
   ]
  },
  {
   "cell_type": "code",
   "execution_count": 24,
   "metadata": {},
   "outputs": [],
   "source": [
    "df3 = df2.select(*(col(c).cast(\"float\") if i < 14 else col(c) for i, c in enumerate(df2.columns)))"
   ]
  },
  {
   "cell_type": "markdown",
   "metadata": {},
   "source": [
    "Afficher les valeurs uniques pour les attributs 14 à 39 inclu"
   ]
  },
  {
   "cell_type": "code",
   "execution_count": 26,
   "metadata": {},
   "outputs": [
    {
     "name": "stdout",
     "output_type": "stream",
     "text": [
      "+--------+--------+--------+--------+--------+--------+--------+--------+--------+--------+--------+--------+--------+--------+--------+--------+--------+--------+--------+--------+--------+--------+--------+--------+--------+--------+\n",
      "|    _c14|    _c15|    _c16|    _c17|    _c18|    _c19|    _c20|    _c21|    _c22|    _c23|    _c24|    _c25|    _c26|    _c27|    _c28|    _c29|    _c30|    _c31|    _c32|    _c33|    _c34|    _c35|    _c36|    _c37|    _c38|    _c39|\n",
      "+--------+--------+--------+--------+--------+--------+--------+--------+--------+--------+--------+--------+--------+--------+--------+--------+--------+--------+--------+--------+--------+--------+--------+--------+--------+--------+\n",
      "|8cf07265|80e26c9b|e9e3d976|a1b718fb|25c83c98|7e0ccccf|16487bff|0b153874|a73ee510|3b08e48b|65819b7a|cf6ad9d8|2e21cea2|07d13a8f|f3635baf|e2daea07|e5ba7672|f54016b9|21ddcdc9|b1252a9d|7ba7b82b|ad3062eb|3a171ecb|9195f690|e8b83407|3e0e39d6|\n",
      "|be589b51|58e67aaf|65f9158e|3308b8bf|25c83c98|7e0ccccf|0ed4baad|0b153874|a73ee510|9343fa06|7373475d|87358386|cfbfce5c|07d13a8f|10935a85|d3220bc6|e5ba7672|c21c3e4c|b171f800|b1252a9d|34f773e6|ad3062eb|423fab69|786af0ea|9b3e8820|a0b0bb48|\n",
      "|05db9164|09e68b86|233378be|cb2156cb|4cf72387|fe6b92e5|29ed3d08|1f89b562|a73ee510|d2e3dec0|d74aabe6|44776637|0fb78b80|1adce6ef|dbc5e126|54dd60b2|27c07bd6|5aed7436|21ddcdc9|a458ea53|b39b1608|c9d4222a|bcdee96c|3fdb382b|e8b83407|eb9a9610|\n",
      "|5a9ed9b0|4f25e98b|efded18f|8638e8ae|25c83c98|7e0ccccf|dda1fed2|0b153874|a73ee510|f6f942d1|7a18edce|c889eb07|46f42a63|b28479f6|8ab5b746|c8e21b43|3486227d|7ef5affa|511667fb|a458ea53|eaa687a1|c9d4222a|3a171ecb|8d5294cb|001f3601|bcdecf97|\n",
      "|05db9164|207b2d81|3e196f00|052882b1|25c83c98|7e0ccccf|05c1e2a9|0b153874|a73ee510|dd8743af|f5a125f1|ac025e19|095af3d6|cfef1c29|dad721df|dc60538a|3486227d|25c88e42|21ddcdc9|b1252a9d|e3c8c74a|c9d4222a|dbb486d7|c8965754|001f3601|ad8965e8|\n",
      "|68fd1e64|09e68b86|242dba74|35b598a9|25c83c98|fbad5c96|17cd3087|0b153874|a73ee510|305a0646|26fc476a|ce337d1d|1bf19848|1adce6ef|dbc5e126|0f33b689|3486227d|5aed7436|0ece7c14|a458ea53|87ca67db|ad3062eb|bcdee96c|73496e83|e8b83407|f3fccfbe|\n",
      "|68fd1e64|403ea497|2cbec47f|3e2bfbda|25c83c98|7e0ccccf|92ce5a7d|37e4aa92|a73ee510|f6b9bbd2|e0c3cae0|21a23bfe|e8df3343|07d13a8f|e3209fc2|587267a3|8efede7f|a78bd508|21ddcdc9|a458ea53|c2a93b37|ad3062eb|423fab69|1793a828|e8b83407|2fede552|\n",
      "|05db9164|8947f767|d14555f7|7b3460d9|25c83c98|7e0ccccf|d20b4953|0b153874|a73ee510|fa7d0797|c82f1813|a2a80116|949ea585|07d13a8f|8941fc47|574feb13|8efede7f|2c698a26|c68db44a|a458ea53|714ac7d6|c9d4222a|32c7478e|9c1163ab|010f6491|07752963|\n",
      "|5a9ed9b0|f0cf0024|5d3a12c5|ee36060f|25c83c98|fe6b92e5|5e4454aa|0b153874|a73ee510|305a0646|680bf6cb|03afd96d|7db6a946|8ceecbc8|2cff2cc9|fab4dda8|3486227d|88b0e440|21ddcdc9|5840adea|f6e47def|c9d4222a|55dd3565|6c1cdd05|ea9a246c|c5116a1c|\n",
      "|05db9164|09e68b86|8681012e|11e64bed|25c83c98|7e0ccccf|29ed3d08|0b153874|a73ee510|d2e3dec0|d74aabe6|fe0d51a2|0fb78b80|cfef1c29|18847041|6ebc9343|8efede7f|5aed7436|a18beb4f|a458ea53|e7287b09|c9d4222a|bcdee96c|bee2e655|e8b83407|40e3aba2|\n",
      "|05db9164|1cfdf714|9ca71510|86ebb3cb|43b19349|7e0ccccf|90a2c015|0b153874|a73ee510|1b233b32|0f736a0c|d40c5af1|3af886ff|d2dfe871|1e27c4c8|6d55555f|e5ba7672|6a74e011|a9d84a0c|a458ea53|6e0f7fc0|c9d4222a|423fab69|7939255b|cb079c2d|bc33111f|\n",
      "|68fd1e64|58e67aaf|381d8ea3|76bbce8c|25c83c98|7e0ccccf|8589418a|1f89b562|a73ee510|7d3e2fbd|da89cb9b|732c8db2|165642be|07d13a8f|10935a85|03f89a73|3486227d|c21c3e4c|1d04f4a4|a458ea53|d83181ad|ad3062eb|32c7478e|3fdb382b|9b3e8820|25bf05c2|\n",
      "|5a9ed9b0|942f9a8d|dd0b2801|bb729608|4cf72387|fbad5c96|40274d95|8bedcc53|a73ee510|3b08e48b|b750092e|638ec817|9233128b|b28479f6|ac182643|9ca5f927|27c07bd6|1f868fdd|4764bf77|b1252a9d|77a38a76|ad3062eb|be7c41b4|fdd7a5a0|001f3601|7833e4df|\n",
      "|05db9164|942f9a8d|dd0b2801|bb729608|25c83c98|fbad5c96|40274d95|5b392875|a73ee510|3b08e48b|b750092e|638ec817|9233128b|b28479f6|ac182643|9ca5f927|27c07bd6|1f868fdd|4764bf77|a458ea53|77a38a76|ad3062eb|be7c41b4|fdd7a5a0|001f3601|7833e4df|\n",
      "|05db9164|1cfdf714|ce6be080|8c95fd86|4cf72387|fbad5c96|7415122a|5b392875|a73ee510|f9065d00|98579192|6366a531|779f824b|051219e6|af56328b|904630ed|e5ba7672|e88ffc9d|8cccb387|a458ea53|30c085fc|ad3062eb|3a171ecb|24d3b1d4|e8b83407|cd499895|\n",
      "|05db9164|1cfdf714|86ac372a|059679d3|4cf72387|7e0ccccf|7195046d|0b153874|a73ee510|acccca1c|4d8549da|fc4ce29c|51b97b8f|f862f261|0e1257cc|bc27ab87|8efede7f|e88ffc9d|21ddcdc9|a458ea53|0ec61495|ad3062eb|bcdee96c|8b51e37e|cb079c2d|b999534e|\n",
      "|8cf07265|1cfdf714|7554ee1f|d0435d12|43b19349|fe6b92e5|355bbb36|1f89b562|a73ee510|b99cb647|9090b697|adcda34e|2fe66320|f862f261|0e1257cc|01fed589|3486227d|e88ffc9d|55dd3565|a458ea53|8bf9c02a|78e2e389|bcdee96c|a3d6d29b|cb079c2d|9863119c|\n",
      "|05db9164|1cfdf714|f94ad0d8|015d2650|0942e0a7|fbad5c96|1cebe213|5b392875|a73ee510|62f096f9|1054ae5c|fe9d0c5b|d7ce3abd|b28479f6|d345b1a0|48e669c4|8efede7f|e88ffc9d|7c629f16|b1252a9d|858323e3|ad3062eb|bcdee96c|a1d7a338|cb079c2d|478fade0|\n",
      "|05db9164|38d50e09|b642d4d1|2b643690|25c83c98|7e0ccccf|2e8a689b|1f89b562|a73ee510|a9043efc|e51ddf94|826cb6b1|3516f6e6|07d13a8f|753d0ff5|8cec3c5b|3486227d|01cb4e6a|21ddcdc9|5840adea|0704b0b2|c9d4222a|32c7478e|732e04a1|001f3601|2fede552|\n",
      "|05db9164|d7988e72|717b6b42|9f3d1f89|25c83c98|7e0ccccf|b0e3882e|25239412|a73ee510|53048a37|f37be5c0|043ad2e6|a59ea816|07d13a8f|194c42a4|068f555c|3486227d|0f2f9850|21ddcdc9|b1252a9d|885e1d32|ad3062eb|423fab69|7827330b|445bbe3b|d7c5d96b|\n",
      "+--------+--------+--------+--------+--------+--------+--------+--------+--------+--------+--------+--------+--------+--------+--------+--------+--------+--------+--------+--------+--------+--------+--------+--------+--------+--------+\n",
      "only showing top 20 rows\n",
      "\n"
     ]
    }
   ],
   "source": [
    "df3.select(*(col(c) for c in df2.columns[14:])).distinct().show() # marche pas"
   ]
  },
  {
   "cell_type": "code",
   "execution_count": 27,
   "metadata": {},
   "outputs": [
    {
     "data": {
      "text/plain": [
       "StructType(List(StructField(_c0,FloatType,true),StructField(_c1,FloatType,true),StructField(_c2,FloatType,true),StructField(_c3,FloatType,true),StructField(_c4,FloatType,true),StructField(_c5,FloatType,true),StructField(_c6,FloatType,true),StructField(_c7,FloatType,true),StructField(_c8,FloatType,true),StructField(_c9,FloatType,true),StructField(_c10,FloatType,true),StructField(_c11,FloatType,true),StructField(_c12,FloatType,true),StructField(_c13,FloatType,true),StructField(_c14,StringType,true),StructField(_c15,StringType,true),StructField(_c16,StringType,true),StructField(_c17,StringType,true),StructField(_c18,StringType,true),StructField(_c19,StringType,true),StructField(_c20,StringType,true),StructField(_c21,StringType,true),StructField(_c22,StringType,true),StructField(_c23,StringType,true),StructField(_c24,StringType,true),StructField(_c25,StringType,true),StructField(_c26,StringType,true),StructField(_c27,StringType,true),StructField(_c28,StringType,true),StructField(_c29,StringType,true),StructField(_c30,StringType,true),StructField(_c31,StringType,true),StructField(_c32,StringType,true),StructField(_c33,StringType,true),StructField(_c34,StringType,true),StructField(_c35,StringType,true),StructField(_c36,StringType,true),StructField(_c37,StringType,true),StructField(_c38,StringType,true),StructField(_c39,StringType,true)))"
      ]
     },
     "execution_count": 27,
     "metadata": {},
     "output_type": "execute_result"
    }
   ],
   "source": [
    "df3.schema"
   ]
  },
  {
   "cell_type": "markdown",
   "metadata": {},
   "source": [
    "## Arrêt du context"
   ]
  },
  {
   "cell_type": "code",
   "execution_count": 28,
   "metadata": {},
   "outputs": [],
   "source": [
    "sc.stop()"
   ]
  },
  {
   "cell_type": "code",
   "execution_count": null,
   "metadata": {},
   "outputs": [],
   "source": []
  }
 ],
 "metadata": {
  "kernelspec": {
   "display_name": "Python 3",
   "language": "python",
   "name": "python3"
  },
  "language_info": {
   "codemirror_mode": {
    "name": "ipython",
    "version": 3
   },
   "file_extension": ".py",
   "mimetype": "text/x-python",
   "name": "python",
   "nbconvert_exporter": "python",
   "pygments_lexer": "ipython3",
   "version": "3.6.7"
  }
 },
 "nbformat": 4,
 "nbformat_minor": 2
}
